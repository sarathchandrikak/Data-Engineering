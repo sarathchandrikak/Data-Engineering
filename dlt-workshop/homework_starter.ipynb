{
  "cells": [
    {
      "cell_type": "markdown",
      "metadata": {
        "id": "mrTFv5nPClXh"
      },
      "source": [
        "# **Homework**: Data talks club data engineering zoomcamp Data loading workshop\n",
        "\n",
        "Hello folks, let's practice what we learned - Loading data with the best practices of data engineering.\n",
        "\n",
        "Here are the exercises we will do\n",
        "\n",
        "\n"
      ]
    },
    {
      "cell_type": "markdown",
      "metadata": {
        "id": "wLF4iXf-NR7t"
      },
      "source": [
        "# 1. Use a generator\n",
        "\n",
        "Remember the concept of generator? Let's practice using them to futher our understanding of how they work.\n",
        "\n",
        "Let's define a generator and then run it as practice.\n",
        "\n",
        "**Answer the following questions:**\n",
        "\n",
        "- **Question 1: What is the sum of the outputs of the generator for limit = 5?**\n",
        "- **Question 2: What is the 13th number yielded**\n",
        "\n",
        "I suggest practicing these questions without GPT as the purpose is to further your learning."
      ]
    },
    {
      "cell_type": "code",
      "execution_count": 2,
      "metadata": {
        "colab": {
          "base_uri": "https://localhost:8080/"
        },
        "id": "wLng-bDJN4jf",
        "outputId": "547683cb-5f56-4815-a903-d0d9578eb1f9"
      },
      "outputs": [
        {
          "name": "stdout",
          "output_type": "stream",
          "text": [
            "8.382332347441762\n"
          ]
        }
      ],
      "source": [
        "def square_root_generator(limit):\n",
        "    n = 1\n",
        "    while n <= limit:\n",
        "        yield n ** 0.5\n",
        "        n += 1\n",
        "\n",
        "# Example usage:\n",
        "limit = 5\n",
        "generator = square_root_generator(limit)\n",
        "\n",
        "sum = 0\n",
        "for sqrt_value in generator:\n",
        "    sum = sum + sqrt_value\n",
        "\n",
        "print(sum)\n"
      ]
    },
    {
      "cell_type": "markdown",
      "metadata": {
        "id": "xbe3q55zN43j"
      },
      "source": []
    },
    {
      "cell_type": "markdown",
      "metadata": {
        "id": "vjWhILzGJMpK"
      },
      "source": [
        "# 2. Append a generator to a table with existing data\n",
        "\n",
        "\n",
        "Below you have 2 generators. You will be tasked to load them to duckdb and answer some questions from the data\n",
        "\n",
        "1. Load the first generator and calculate the sum of ages of all people. Make sure to only load it once.\n",
        "2. Append the second generator to the same table as the first.\n",
        "3. **After correctly appending the data, calculate the sum of all ages of people.**\n",
        "\n",
        "\n"
      ]
    },
    {
      "cell_type": "code",
      "execution_count": 3,
      "metadata": {
        "colab": {
          "base_uri": "https://localhost:8080/"
        },
        "id": "2MoaQcdLBEk6",
        "outputId": "d2b93dc1-d83f-44ea-aeff-fdf51d75f7aa"
      },
      "outputs": [
        {
          "name": "stdout",
          "output_type": "stream",
          "text": [
            "{'ID': 1, 'Name': 'Person_1', 'Age': 26, 'City': 'City_A'}\n",
            "{'ID': 2, 'Name': 'Person_2', 'Age': 27, 'City': 'City_A'}\n",
            "{'ID': 3, 'Name': 'Person_3', 'Age': 28, 'City': 'City_A'}\n",
            "{'ID': 4, 'Name': 'Person_4', 'Age': 29, 'City': 'City_A'}\n",
            "{'ID': 5, 'Name': 'Person_5', 'Age': 30, 'City': 'City_A'}\n",
            "{'ID': 1, 'Name': 'Person_1', 'Age': 26, 'City': 'City_A'}\n",
            "{'ID': 2, 'Name': 'Person_2', 'Age': 27, 'City': 'City_A'}\n",
            "{'ID': 3, 'Name': 'Person_3', 'Age': 28, 'City': 'City_A'}\n",
            "{'ID': 4, 'Name': 'Person_4', 'Age': 29, 'City': 'City_A'}\n",
            "{'ID': 5, 'Name': 'Person_5', 'Age': 30, 'City': 'City_A'}\n"
          ]
        }
      ],
      "source": [
        "def people_1():\n",
        "    for i in range(1, 6):\n",
        "        yield {\"ID\": i, \"Name\": f\"Person_{i}\", \"Age\": 25 + i, \"City\": \"City_A\"}\n",
        "\n",
        "for person in people_1():\n",
        "    print(person)\n",
        "\n",
        "\n",
        "def people_2():\n",
        "    for i in range(3, 9):\n",
        "        yield {\"ID\": i, \"Name\": f\"Person_{i}\", \"Age\": 30 + i, \"City\": \"City_B\", \"Occupation\": f\"Job_{i}\"}\n",
        "\n",
        "\n",
        "for person in people_1():\n",
        "    print(person)\n"
      ]
    },
    {
      "cell_type": "code",
      "execution_count": 4,
      "metadata": {},
      "outputs": [
        {
          "name": "stdout",
          "output_type": "stream",
          "text": [
            "The 13th number : 3.605551275463989\n"
          ]
        }
      ],
      "source": [
        "\n",
        "# Question 2: What is the 13th number yielded\n",
        "limit = 13\n",
        "generator = square_root_generator(limit)\n",
        "\n",
        "for i, sqrt_value in enumerate(generator):\n",
        "  if i == limit - 1:\n",
        "    print(f\"The 13th number : {sqrt_value}\")"
      ]
    },
    {
      "cell_type": "markdown",
      "metadata": {
        "id": "pY4cFAWOSwN1"
      },
      "source": [
        "# 3. Merge a generator\n",
        "\n",
        "Re-use the generators from Exercise 2.\n",
        "\n",
        "A table's primary key needs to be created from the start, so load your data to a new table with primary key ID.\n",
        "\n",
        "Load your first generator first, and then load the second one with merge. Since they have overlapping IDs, some of the records from the first load should be replaced by the ones from the second load.\n",
        "\n",
        "After loading, you should have a total of 8 records, and ID 3 should have age 33.\n",
        "\n",
        "Question: **Calculate the sum of ages of all the people loaded as described above.**\n"
      ]
    },
    {
      "cell_type": "markdown",
      "metadata": {
        "id": "kKB2GTB9oVjr"
      },
      "source": [
        "\n",
        "# Solution: First make sure that the following modules are installed:"
      ]
    },
    {
      "cell_type": "code",
      "execution_count": 5,
      "metadata": {
        "id": "xTVvtyqrfVNq"
      },
      "outputs": [
        {
          "name": "stdout",
          "output_type": "stream",
          "text": [
            "zsh:1: no matches found: dlt[duckdb]\n"
          ]
        }
      ],
      "source": [
        "#Install the dependencies\n",
        "! pip install dlt[duckdb]"
      ]
    },
    {
      "cell_type": "code",
      "execution_count": 6,
      "metadata": {
        "id": "a2-PRBAkGC2K"
      },
      "outputs": [
        {
          "name": "stderr",
          "output_type": "stream",
          "text": [
            "/Users/sarathchandrika/Documents/Multi-News/venv/lib/python3.9/site-packages/urllib3/__init__.py:35: NotOpenSSLWarning: urllib3 v2 only supports OpenSSL 1.1.1+, currently the 'ssl' module is compiled with 'LibreSSL 2.8.3'. See: https://github.com/urllib3/urllib3/issues/3020\n",
            "  warnings.warn(\n"
          ]
        }
      ],
      "source": [
        "import dlt"
      ]
    },
    {
      "cell_type": "code",
      "execution_count": 7,
      "metadata": {},
      "outputs": [],
      "source": [
        "import duckdb"
      ]
    },
    {
      "cell_type": "code",
      "execution_count": 8,
      "metadata": {},
      "outputs": [],
      "source": [
        "import pandas as pd \n",
        "import numpy as np"
      ]
    },
    {
      "cell_type": "code",
      "execution_count": 13,
      "metadata": {},
      "outputs": [
        {
          "name": "stdout",
          "output_type": "stream",
          "text": [
            "Pipeline dlt_ipykernel_launcher load step completed in 0.21 seconds\n",
            "1 load package(s) were loaded to destination duckdb and into dataset generators\n",
            "The duckdb destination used duckdb:////Users/sarathchandrika/Downloads/dlt_ipykernel_launcher.duckdb location to store data\n",
            "Load package 1708485283.2938392 is LOADED and contains no failed jobs\n"
          ]
        }
      ],
      "source": [
        "data1 = []\n",
        "for person in people_1():\n",
        "  data1.append(person)\n",
        "\n",
        "data2 = []\n",
        "for person in people_2():\n",
        "  data2.append(person)\n",
        "\n",
        "# define the connection to load to.\n",
        "pipeline = dlt.pipeline(destination='duckdb', dataset_name='generators')\n",
        "\n",
        "# run with append write disposition.\n",
        "info = pipeline.run(data1,\n",
        "\t\t\t\t\t\t\t\t\t\ttable_name=\"people1\",\n",
        "\t\t\t\t\t\t\t\t\t\twrite_disposition=\"append\")\n",
        "# show the outcome\n",
        "print(info)"
      ]
    },
    {
      "cell_type": "code",
      "execution_count": 15,
      "metadata": {},
      "outputs": [
        {
          "name": "stdout",
          "output_type": "stream",
          "text": [
            "Loaded tables: \n"
          ]
        },
        {
          "data": {
            "text/plain": [
              "┌─────────────────────┐\n",
              "│        name         │\n",
              "│       varchar       │\n",
              "├─────────────────────┤\n",
              "│ _dlt_loads          │\n",
              "│ _dlt_pipeline_state │\n",
              "│ _dlt_version        │\n",
              "│ people              │\n",
              "│ people1             │\n",
              "└─────────────────────┘"
            ]
          },
          "metadata": {},
          "output_type": "display_data"
        },
        {
          "data": {
            "text/html": [
              "<div>\n",
              "<style scoped>\n",
              "    .dataframe tbody tr th:only-of-type {\n",
              "        vertical-align: middle;\n",
              "    }\n",
              "\n",
              "    .dataframe tbody tr th {\n",
              "        vertical-align: top;\n",
              "    }\n",
              "\n",
              "    .dataframe thead th {\n",
              "        text-align: right;\n",
              "    }\n",
              "</style>\n",
              "<table border=\"1\" class=\"dataframe\">\n",
              "  <thead>\n",
              "    <tr style=\"text-align: right;\">\n",
              "      <th></th>\n",
              "      <th>id</th>\n",
              "      <th>name</th>\n",
              "      <th>age</th>\n",
              "      <th>city</th>\n",
              "      <th>_dlt_load_id</th>\n",
              "      <th>_dlt_id</th>\n",
              "    </tr>\n",
              "  </thead>\n",
              "  <tbody>\n",
              "    <tr>\n",
              "      <th>0</th>\n",
              "      <td>1</td>\n",
              "      <td>Person_1</td>\n",
              "      <td>26</td>\n",
              "      <td>City_A</td>\n",
              "      <td>1708485283.2938392</td>\n",
              "      <td>p9L5N088zBjGNw</td>\n",
              "    </tr>\n",
              "    <tr>\n",
              "      <th>1</th>\n",
              "      <td>2</td>\n",
              "      <td>Person_2</td>\n",
              "      <td>27</td>\n",
              "      <td>City_A</td>\n",
              "      <td>1708485283.2938392</td>\n",
              "      <td>Nqooodhigx+pkw</td>\n",
              "    </tr>\n",
              "    <tr>\n",
              "      <th>2</th>\n",
              "      <td>3</td>\n",
              "      <td>Person_3</td>\n",
              "      <td>28</td>\n",
              "      <td>City_A</td>\n",
              "      <td>1708485283.2938392</td>\n",
              "      <td>BO2xv2sYVHqajQ</td>\n",
              "    </tr>\n",
              "    <tr>\n",
              "      <th>3</th>\n",
              "      <td>4</td>\n",
              "      <td>Person_4</td>\n",
              "      <td>29</td>\n",
              "      <td>City_A</td>\n",
              "      <td>1708485283.2938392</td>\n",
              "      <td>bYZEZmiq6B5PTA</td>\n",
              "    </tr>\n",
              "    <tr>\n",
              "      <th>4</th>\n",
              "      <td>5</td>\n",
              "      <td>Person_5</td>\n",
              "      <td>30</td>\n",
              "      <td>City_A</td>\n",
              "      <td>1708485283.2938392</td>\n",
              "      <td>Hr1GJnYraW/9XQ</td>\n",
              "    </tr>\n",
              "  </tbody>\n",
              "</table>\n",
              "</div>"
            ],
            "text/plain": [
              "   id      name  age    city        _dlt_load_id         _dlt_id\n",
              "0   1  Person_1   26  City_A  1708485283.2938392  p9L5N088zBjGNw\n",
              "1   2  Person_2   27  City_A  1708485283.2938392  Nqooodhigx+pkw\n",
              "2   3  Person_3   28  City_A  1708485283.2938392  BO2xv2sYVHqajQ\n",
              "3   4  Person_4   29  City_A  1708485283.2938392  bYZEZmiq6B5PTA\n",
              "4   5  Person_5   30  City_A  1708485283.2938392  Hr1GJnYraW/9XQ"
            ]
          },
          "metadata": {},
          "output_type": "display_data"
        }
      ],
      "source": [
        "\n",
        "conn = duckdb.connect(f\"{pipeline.pipeline_name}.duckdb\")\n",
        "\n",
        "conn.sql(f\"SET search_path = '{pipeline.dataset_name}'\")\n",
        "\n",
        "# let's see the tables\n",
        "print('Loaded tables: ')\n",
        "display(conn.sql(\"show tables\"))\n",
        "\n",
        "people_table = conn.sql(\"SELECT * FROM people1\").df()\n",
        "display(people_table)"
      ]
    },
    {
      "cell_type": "code",
      "execution_count": 16,
      "metadata": {},
      "outputs": [
        {
          "data": {
            "text/html": [
              "<div>\n",
              "<style scoped>\n",
              "    .dataframe tbody tr th:only-of-type {\n",
              "        vertical-align: middle;\n",
              "    }\n",
              "\n",
              "    .dataframe tbody tr th {\n",
              "        vertical-align: top;\n",
              "    }\n",
              "\n",
              "    .dataframe thead th {\n",
              "        text-align: right;\n",
              "    }\n",
              "</style>\n",
              "<table border=\"1\" class=\"dataframe\">\n",
              "  <thead>\n",
              "    <tr style=\"text-align: right;\">\n",
              "      <th></th>\n",
              "      <th>total_ages</th>\n",
              "    </tr>\n",
              "  </thead>\n",
              "  <tbody>\n",
              "    <tr>\n",
              "      <th>0</th>\n",
              "      <td>140.0</td>\n",
              "    </tr>\n",
              "  </tbody>\n",
              "</table>\n",
              "</div>"
            ],
            "text/plain": [
              "   total_ages\n",
              "0       140.0"
            ]
          },
          "metadata": {},
          "output_type": "display_data"
        }
      ],
      "source": [
        "query = conn.sql(\"SELECT SUM(age) AS total_ages FROM people1\").df()\n",
        "display(query)"
      ]
    },
    {
      "cell_type": "code",
      "execution_count": 17,
      "metadata": {},
      "outputs": [
        {
          "name": "stdout",
          "output_type": "stream",
          "text": [
            "Pipeline dlt_ipykernel_launcher load step completed in 0.26 seconds\n",
            "1 load package(s) were loaded to destination duckdb and into dataset generators\n",
            "The duckdb destination used duckdb:////Users/sarathchandrika/Downloads/dlt_ipykernel_launcher.duckdb location to store data\n",
            "Load package 1708485324.550653 is LOADED and contains no failed jobs\n"
          ]
        }
      ],
      "source": [
        "info = pipeline.run(data2, table_name='people1', write_disposition=\"append\")\n",
        "print(info)"
      ]
    },
    {
      "cell_type": "code",
      "execution_count": 46,
      "metadata": {},
      "outputs": [
        {
          "data": {
            "text/html": [
              "<div>\n",
              "<style scoped>\n",
              "    .dataframe tbody tr th:only-of-type {\n",
              "        vertical-align: middle;\n",
              "    }\n",
              "\n",
              "    .dataframe tbody tr th {\n",
              "        vertical-align: top;\n",
              "    }\n",
              "\n",
              "    .dataframe thead th {\n",
              "        text-align: right;\n",
              "    }\n",
              "</style>\n",
              "<table border=\"1\" class=\"dataframe\">\n",
              "  <thead>\n",
              "    <tr style=\"text-align: right;\">\n",
              "      <th></th>\n",
              "      <th>id</th>\n",
              "      <th>name</th>\n",
              "      <th>age</th>\n",
              "      <th>city</th>\n",
              "      <th>_dlt_load_id</th>\n",
              "      <th>_dlt_id</th>\n",
              "      <th>occupation</th>\n",
              "    </tr>\n",
              "  </thead>\n",
              "  <tbody>\n",
              "    <tr>\n",
              "      <th>0</th>\n",
              "      <td>1</td>\n",
              "      <td>Person_1</td>\n",
              "      <td>26</td>\n",
              "      <td>City_A</td>\n",
              "      <td>1708484656.751055</td>\n",
              "      <td>b08XZboKzXI/qA</td>\n",
              "      <td>None</td>\n",
              "    </tr>\n",
              "    <tr>\n",
              "      <th>1</th>\n",
              "      <td>2</td>\n",
              "      <td>Person_2</td>\n",
              "      <td>27</td>\n",
              "      <td>City_A</td>\n",
              "      <td>1708484656.751055</td>\n",
              "      <td>MrdaBqnjobefzg</td>\n",
              "      <td>None</td>\n",
              "    </tr>\n",
              "    <tr>\n",
              "      <th>2</th>\n",
              "      <td>3</td>\n",
              "      <td>Person_3</td>\n",
              "      <td>28</td>\n",
              "      <td>City_A</td>\n",
              "      <td>1708484656.751055</td>\n",
              "      <td>NxS0c8Ts1s9VVA</td>\n",
              "      <td>None</td>\n",
              "    </tr>\n",
              "    <tr>\n",
              "      <th>3</th>\n",
              "      <td>4</td>\n",
              "      <td>Person_4</td>\n",
              "      <td>29</td>\n",
              "      <td>City_A</td>\n",
              "      <td>1708484656.751055</td>\n",
              "      <td>BKzOxrRcMd3hLw</td>\n",
              "      <td>None</td>\n",
              "    </tr>\n",
              "    <tr>\n",
              "      <th>4</th>\n",
              "      <td>5</td>\n",
              "      <td>Person_5</td>\n",
              "      <td>30</td>\n",
              "      <td>City_A</td>\n",
              "      <td>1708484656.751055</td>\n",
              "      <td>sbRlSx2U8t3vKg</td>\n",
              "      <td>None</td>\n",
              "    </tr>\n",
              "    <tr>\n",
              "      <th>5</th>\n",
              "      <td>1</td>\n",
              "      <td>Person_1</td>\n",
              "      <td>26</td>\n",
              "      <td>City_A</td>\n",
              "      <td>1708484802.670677</td>\n",
              "      <td>th/VgVTb20xvMw</td>\n",
              "      <td>None</td>\n",
              "    </tr>\n",
              "    <tr>\n",
              "      <th>6</th>\n",
              "      <td>2</td>\n",
              "      <td>Person_2</td>\n",
              "      <td>27</td>\n",
              "      <td>City_A</td>\n",
              "      <td>1708484802.670677</td>\n",
              "      <td>wwZ0OuS5Af6LbA</td>\n",
              "      <td>None</td>\n",
              "    </tr>\n",
              "    <tr>\n",
              "      <th>7</th>\n",
              "      <td>3</td>\n",
              "      <td>Person_3</td>\n",
              "      <td>28</td>\n",
              "      <td>City_A</td>\n",
              "      <td>1708484802.670677</td>\n",
              "      <td>tpHBCxV4pJBO7Q</td>\n",
              "      <td>None</td>\n",
              "    </tr>\n",
              "    <tr>\n",
              "      <th>8</th>\n",
              "      <td>4</td>\n",
              "      <td>Person_4</td>\n",
              "      <td>29</td>\n",
              "      <td>City_A</td>\n",
              "      <td>1708484802.670677</td>\n",
              "      <td>z2j6i8y317vu7Q</td>\n",
              "      <td>None</td>\n",
              "    </tr>\n",
              "    <tr>\n",
              "      <th>9</th>\n",
              "      <td>5</td>\n",
              "      <td>Person_5</td>\n",
              "      <td>30</td>\n",
              "      <td>City_A</td>\n",
              "      <td>1708484802.670677</td>\n",
              "      <td>P8G3EcOeGEotHw</td>\n",
              "      <td>None</td>\n",
              "    </tr>\n",
              "    <tr>\n",
              "      <th>10</th>\n",
              "      <td>3</td>\n",
              "      <td>Person_3</td>\n",
              "      <td>33</td>\n",
              "      <td>City_B</td>\n",
              "      <td>1708484928.148586</td>\n",
              "      <td>FALVP+YiRzdktw</td>\n",
              "      <td>Job_3</td>\n",
              "    </tr>\n",
              "    <tr>\n",
              "      <th>11</th>\n",
              "      <td>4</td>\n",
              "      <td>Person_4</td>\n",
              "      <td>34</td>\n",
              "      <td>City_B</td>\n",
              "      <td>1708484928.148586</td>\n",
              "      <td>mvNFgzqi3tiU+w</td>\n",
              "      <td>Job_4</td>\n",
              "    </tr>\n",
              "    <tr>\n",
              "      <th>12</th>\n",
              "      <td>5</td>\n",
              "      <td>Person_5</td>\n",
              "      <td>35</td>\n",
              "      <td>City_B</td>\n",
              "      <td>1708484928.148586</td>\n",
              "      <td>YdgPWxWgpCxrEw</td>\n",
              "      <td>Job_5</td>\n",
              "    </tr>\n",
              "    <tr>\n",
              "      <th>13</th>\n",
              "      <td>6</td>\n",
              "      <td>Person_6</td>\n",
              "      <td>36</td>\n",
              "      <td>City_B</td>\n",
              "      <td>1708484928.148586</td>\n",
              "      <td>pBPbzFo3eLOrlw</td>\n",
              "      <td>Job_6</td>\n",
              "    </tr>\n",
              "    <tr>\n",
              "      <th>14</th>\n",
              "      <td>7</td>\n",
              "      <td>Person_7</td>\n",
              "      <td>37</td>\n",
              "      <td>City_B</td>\n",
              "      <td>1708484928.148586</td>\n",
              "      <td>/utWPiS+YX1crQ</td>\n",
              "      <td>Job_7</td>\n",
              "    </tr>\n",
              "    <tr>\n",
              "      <th>15</th>\n",
              "      <td>8</td>\n",
              "      <td>Person_8</td>\n",
              "      <td>38</td>\n",
              "      <td>City_B</td>\n",
              "      <td>1708484928.148586</td>\n",
              "      <td>/3SC1EhNZlb2OQ</td>\n",
              "      <td>Job_8</td>\n",
              "    </tr>\n",
              "    <tr>\n",
              "      <th>16</th>\n",
              "      <td>1</td>\n",
              "      <td>Person_1</td>\n",
              "      <td>26</td>\n",
              "      <td>City_A</td>\n",
              "      <td>1708485153.6817029</td>\n",
              "      <td>1BolFD3n45uelw</td>\n",
              "      <td>None</td>\n",
              "    </tr>\n",
              "    <tr>\n",
              "      <th>17</th>\n",
              "      <td>2</td>\n",
              "      <td>Person_2</td>\n",
              "      <td>27</td>\n",
              "      <td>City_A</td>\n",
              "      <td>1708485153.6817029</td>\n",
              "      <td>A+aTEHj+j3Krdw</td>\n",
              "      <td>None</td>\n",
              "    </tr>\n",
              "    <tr>\n",
              "      <th>18</th>\n",
              "      <td>3</td>\n",
              "      <td>Person_3</td>\n",
              "      <td>28</td>\n",
              "      <td>City_A</td>\n",
              "      <td>1708485153.6817029</td>\n",
              "      <td>aAWDZRPhN+oZng</td>\n",
              "      <td>None</td>\n",
              "    </tr>\n",
              "    <tr>\n",
              "      <th>19</th>\n",
              "      <td>4</td>\n",
              "      <td>Person_4</td>\n",
              "      <td>29</td>\n",
              "      <td>City_A</td>\n",
              "      <td>1708485153.6817029</td>\n",
              "      <td>bVh5KK4K7hPiEA</td>\n",
              "      <td>None</td>\n",
              "    </tr>\n",
              "    <tr>\n",
              "      <th>20</th>\n",
              "      <td>5</td>\n",
              "      <td>Person_5</td>\n",
              "      <td>30</td>\n",
              "      <td>City_A</td>\n",
              "      <td>1708485153.6817029</td>\n",
              "      <td>OQHJBH49nq/9ug</td>\n",
              "      <td>None</td>\n",
              "    </tr>\n",
              "    <tr>\n",
              "      <th>21</th>\n",
              "      <td>1</td>\n",
              "      <td>Person_1</td>\n",
              "      <td>26</td>\n",
              "      <td>City_A</td>\n",
              "      <td>1708485183.8761091</td>\n",
              "      <td>KfSilTO8Zh8jGQ</td>\n",
              "      <td>None</td>\n",
              "    </tr>\n",
              "    <tr>\n",
              "      <th>22</th>\n",
              "      <td>2</td>\n",
              "      <td>Person_2</td>\n",
              "      <td>27</td>\n",
              "      <td>City_A</td>\n",
              "      <td>1708485183.8761091</td>\n",
              "      <td>tUC6SRuEoornLg</td>\n",
              "      <td>None</td>\n",
              "    </tr>\n",
              "    <tr>\n",
              "      <th>23</th>\n",
              "      <td>3</td>\n",
              "      <td>Person_3</td>\n",
              "      <td>28</td>\n",
              "      <td>City_A</td>\n",
              "      <td>1708485183.8761091</td>\n",
              "      <td>L4kppi4wKKYIFg</td>\n",
              "      <td>None</td>\n",
              "    </tr>\n",
              "    <tr>\n",
              "      <th>24</th>\n",
              "      <td>4</td>\n",
              "      <td>Person_4</td>\n",
              "      <td>29</td>\n",
              "      <td>City_A</td>\n",
              "      <td>1708485183.8761091</td>\n",
              "      <td>t7eqk9sGbD7qSw</td>\n",
              "      <td>None</td>\n",
              "    </tr>\n",
              "    <tr>\n",
              "      <th>25</th>\n",
              "      <td>5</td>\n",
              "      <td>Person_5</td>\n",
              "      <td>30</td>\n",
              "      <td>City_A</td>\n",
              "      <td>1708485183.8761091</td>\n",
              "      <td>TuM08rPbZkjdoA</td>\n",
              "      <td>None</td>\n",
              "    </tr>\n",
              "    <tr>\n",
              "      <th>26</th>\n",
              "      <td>3</td>\n",
              "      <td>Person_3</td>\n",
              "      <td>33</td>\n",
              "      <td>City_B</td>\n",
              "      <td>1708485191.739424</td>\n",
              "      <td>/hAOYQyRjtjbAA</td>\n",
              "      <td>Job_3</td>\n",
              "    </tr>\n",
              "    <tr>\n",
              "      <th>27</th>\n",
              "      <td>4</td>\n",
              "      <td>Person_4</td>\n",
              "      <td>34</td>\n",
              "      <td>City_B</td>\n",
              "      <td>1708485191.739424</td>\n",
              "      <td>W+gegJ4YBW3ZSw</td>\n",
              "      <td>Job_4</td>\n",
              "    </tr>\n",
              "    <tr>\n",
              "      <th>28</th>\n",
              "      <td>5</td>\n",
              "      <td>Person_5</td>\n",
              "      <td>35</td>\n",
              "      <td>City_B</td>\n",
              "      <td>1708485191.739424</td>\n",
              "      <td>K89FNodgL01jBQ</td>\n",
              "      <td>Job_5</td>\n",
              "    </tr>\n",
              "    <tr>\n",
              "      <th>29</th>\n",
              "      <td>6</td>\n",
              "      <td>Person_6</td>\n",
              "      <td>36</td>\n",
              "      <td>City_B</td>\n",
              "      <td>1708485191.739424</td>\n",
              "      <td>lxsT96RVBDV3tg</td>\n",
              "      <td>Job_6</td>\n",
              "    </tr>\n",
              "    <tr>\n",
              "      <th>30</th>\n",
              "      <td>7</td>\n",
              "      <td>Person_7</td>\n",
              "      <td>37</td>\n",
              "      <td>City_B</td>\n",
              "      <td>1708485191.739424</td>\n",
              "      <td>1HvwjwXul29lNQ</td>\n",
              "      <td>Job_7</td>\n",
              "    </tr>\n",
              "    <tr>\n",
              "      <th>31</th>\n",
              "      <td>8</td>\n",
              "      <td>Person_8</td>\n",
              "      <td>38</td>\n",
              "      <td>City_B</td>\n",
              "      <td>1708485191.739424</td>\n",
              "      <td>+7CBfv4QvL/DAg</td>\n",
              "      <td>Job_8</td>\n",
              "    </tr>\n",
              "  </tbody>\n",
              "</table>\n",
              "</div>"
            ],
            "text/plain": [
              "    id      name  age    city        _dlt_load_id         _dlt_id occupation\n",
              "0    1  Person_1   26  City_A   1708484656.751055  b08XZboKzXI/qA       None\n",
              "1    2  Person_2   27  City_A   1708484656.751055  MrdaBqnjobefzg       None\n",
              "2    3  Person_3   28  City_A   1708484656.751055  NxS0c8Ts1s9VVA       None\n",
              "3    4  Person_4   29  City_A   1708484656.751055  BKzOxrRcMd3hLw       None\n",
              "4    5  Person_5   30  City_A   1708484656.751055  sbRlSx2U8t3vKg       None\n",
              "5    1  Person_1   26  City_A   1708484802.670677  th/VgVTb20xvMw       None\n",
              "6    2  Person_2   27  City_A   1708484802.670677  wwZ0OuS5Af6LbA       None\n",
              "7    3  Person_3   28  City_A   1708484802.670677  tpHBCxV4pJBO7Q       None\n",
              "8    4  Person_4   29  City_A   1708484802.670677  z2j6i8y317vu7Q       None\n",
              "9    5  Person_5   30  City_A   1708484802.670677  P8G3EcOeGEotHw       None\n",
              "10   3  Person_3   33  City_B   1708484928.148586  FALVP+YiRzdktw      Job_3\n",
              "11   4  Person_4   34  City_B   1708484928.148586  mvNFgzqi3tiU+w      Job_4\n",
              "12   5  Person_5   35  City_B   1708484928.148586  YdgPWxWgpCxrEw      Job_5\n",
              "13   6  Person_6   36  City_B   1708484928.148586  pBPbzFo3eLOrlw      Job_6\n",
              "14   7  Person_7   37  City_B   1708484928.148586  /utWPiS+YX1crQ      Job_7\n",
              "15   8  Person_8   38  City_B   1708484928.148586  /3SC1EhNZlb2OQ      Job_8\n",
              "16   1  Person_1   26  City_A  1708485153.6817029  1BolFD3n45uelw       None\n",
              "17   2  Person_2   27  City_A  1708485153.6817029  A+aTEHj+j3Krdw       None\n",
              "18   3  Person_3   28  City_A  1708485153.6817029  aAWDZRPhN+oZng       None\n",
              "19   4  Person_4   29  City_A  1708485153.6817029  bVh5KK4K7hPiEA       None\n",
              "20   5  Person_5   30  City_A  1708485153.6817029  OQHJBH49nq/9ug       None\n",
              "21   1  Person_1   26  City_A  1708485183.8761091  KfSilTO8Zh8jGQ       None\n",
              "22   2  Person_2   27  City_A  1708485183.8761091  tUC6SRuEoornLg       None\n",
              "23   3  Person_3   28  City_A  1708485183.8761091  L4kppi4wKKYIFg       None\n",
              "24   4  Person_4   29  City_A  1708485183.8761091  t7eqk9sGbD7qSw       None\n",
              "25   5  Person_5   30  City_A  1708485183.8761091  TuM08rPbZkjdoA       None\n",
              "26   3  Person_3   33  City_B   1708485191.739424  /hAOYQyRjtjbAA      Job_3\n",
              "27   4  Person_4   34  City_B   1708485191.739424  W+gegJ4YBW3ZSw      Job_4\n",
              "28   5  Person_5   35  City_B   1708485191.739424  K89FNodgL01jBQ      Job_5\n",
              "29   6  Person_6   36  City_B   1708485191.739424  lxsT96RVBDV3tg      Job_6\n",
              "30   7  Person_7   37  City_B   1708485191.739424  1HvwjwXul29lNQ      Job_7\n",
              "31   8  Person_8   38  City_B   1708485191.739424  +7CBfv4QvL/DAg      Job_8"
            ]
          },
          "metadata": {},
          "output_type": "display_data"
        }
      ],
      "source": [
        "people_table = conn.sql(\"SELECT * FROM people\").df()\n",
        "display(people_table)"
      ]
    },
    {
      "cell_type": "code",
      "execution_count": 18,
      "metadata": {},
      "outputs": [
        {
          "data": {
            "text/html": [
              "<div>\n",
              "<style scoped>\n",
              "    .dataframe tbody tr th:only-of-type {\n",
              "        vertical-align: middle;\n",
              "    }\n",
              "\n",
              "    .dataframe tbody tr th {\n",
              "        vertical-align: top;\n",
              "    }\n",
              "\n",
              "    .dataframe thead th {\n",
              "        text-align: right;\n",
              "    }\n",
              "</style>\n",
              "<table border=\"1\" class=\"dataframe\">\n",
              "  <thead>\n",
              "    <tr style=\"text-align: right;\">\n",
              "      <th></th>\n",
              "      <th>total_ages</th>\n",
              "    </tr>\n",
              "  </thead>\n",
              "  <tbody>\n",
              "    <tr>\n",
              "      <th>0</th>\n",
              "      <td>353.0</td>\n",
              "    </tr>\n",
              "  </tbody>\n",
              "</table>\n",
              "</div>"
            ],
            "text/plain": [
              "   total_ages\n",
              "0       353.0"
            ]
          },
          "metadata": {},
          "output_type": "display_data"
        }
      ],
      "source": [
        "query = conn.sql(\"SELECT SUM(age) AS total_ages FROM people1\").df()\n",
        "display(query)"
      ]
    },
    {
      "cell_type": "code",
      "execution_count": 19,
      "metadata": {},
      "outputs": [
        {
          "name": "stdout",
          "output_type": "stream",
          "text": [
            "Pipeline dlt_ipykernel_launcher load step completed in 0.22 seconds\n",
            "1 load package(s) were loaded to destination duckdb and into dataset generators\n",
            "The duckdb destination used duckdb:////Users/sarathchandrika/Downloads/dlt_ipykernel_launcher.duckdb location to store data\n",
            "Load package 1708485408.687253 is LOADED and contains no failed jobs\n"
          ]
        }
      ],
      "source": [
        "\n",
        "# run with append write disposition.\n",
        "info = pipeline.run(data1, table_name=\"people_merge\", write_disposition=\"append\")\n",
        "# show the outcome\n",
        "print(info)"
      ]
    },
    {
      "cell_type": "code",
      "execution_count": 20,
      "metadata": {},
      "outputs": [
        {
          "name": "stdout",
          "output_type": "stream",
          "text": [
            "Pipeline dlt_ipykernel_launcher load step completed in 0.40 seconds\n",
            "1 load package(s) were loaded to destination duckdb and into dataset generators\n",
            "The duckdb destination used duckdb:////Users/sarathchandrika/Downloads/dlt_ipykernel_launcher.duckdb location to store data\n",
            "Load package 1708485438.271855 is LOADED and contains no failed jobs\n"
          ]
        }
      ],
      "source": [
        "# run with append write disposition.\n",
        "info = pipeline.run(data2, table_name=\"people_merge\", write_disposition=\"merge\", primary_key=\"id\")\n",
        "# show the outcome\n",
        "print(info)"
      ]
    },
    {
      "cell_type": "code",
      "execution_count": 21,
      "metadata": {},
      "outputs": [
        {
          "data": {
            "text/html": [
              "<div>\n",
              "<style scoped>\n",
              "    .dataframe tbody tr th:only-of-type {\n",
              "        vertical-align: middle;\n",
              "    }\n",
              "\n",
              "    .dataframe tbody tr th {\n",
              "        vertical-align: top;\n",
              "    }\n",
              "\n",
              "    .dataframe thead th {\n",
              "        text-align: right;\n",
              "    }\n",
              "</style>\n",
              "<table border=\"1\" class=\"dataframe\">\n",
              "  <thead>\n",
              "    <tr style=\"text-align: right;\">\n",
              "      <th></th>\n",
              "      <th>id</th>\n",
              "      <th>name</th>\n",
              "      <th>age</th>\n",
              "      <th>city</th>\n",
              "      <th>_dlt_load_id</th>\n",
              "      <th>_dlt_id</th>\n",
              "      <th>occupation</th>\n",
              "    </tr>\n",
              "  </thead>\n",
              "  <tbody>\n",
              "    <tr>\n",
              "      <th>0</th>\n",
              "      <td>1</td>\n",
              "      <td>Person_1</td>\n",
              "      <td>26</td>\n",
              "      <td>City_A</td>\n",
              "      <td>1708485408.687253</td>\n",
              "      <td>17ycgOMJGujvtg</td>\n",
              "      <td>None</td>\n",
              "    </tr>\n",
              "    <tr>\n",
              "      <th>1</th>\n",
              "      <td>2</td>\n",
              "      <td>Person_2</td>\n",
              "      <td>27</td>\n",
              "      <td>City_A</td>\n",
              "      <td>1708485408.687253</td>\n",
              "      <td>K5hPP7LT67RgIw</td>\n",
              "      <td>None</td>\n",
              "    </tr>\n",
              "    <tr>\n",
              "      <th>2</th>\n",
              "      <td>4</td>\n",
              "      <td>Person_4</td>\n",
              "      <td>34</td>\n",
              "      <td>City_B</td>\n",
              "      <td>1708485438.271855</td>\n",
              "      <td>I0ouwS6DvpIGLw</td>\n",
              "      <td>Job_4</td>\n",
              "    </tr>\n",
              "    <tr>\n",
              "      <th>3</th>\n",
              "      <td>5</td>\n",
              "      <td>Person_5</td>\n",
              "      <td>35</td>\n",
              "      <td>City_B</td>\n",
              "      <td>1708485438.271855</td>\n",
              "      <td>j+aTocUAVc1LPA</td>\n",
              "      <td>Job_5</td>\n",
              "    </tr>\n",
              "    <tr>\n",
              "      <th>4</th>\n",
              "      <td>3</td>\n",
              "      <td>Person_3</td>\n",
              "      <td>33</td>\n",
              "      <td>City_B</td>\n",
              "      <td>1708485438.271855</td>\n",
              "      <td>d0ZojrP6N7kkaw</td>\n",
              "      <td>Job_3</td>\n",
              "    </tr>\n",
              "    <tr>\n",
              "      <th>5</th>\n",
              "      <td>6</td>\n",
              "      <td>Person_6</td>\n",
              "      <td>36</td>\n",
              "      <td>City_B</td>\n",
              "      <td>1708485438.271855</td>\n",
              "      <td>BQtfKnSP2lT9lw</td>\n",
              "      <td>Job_6</td>\n",
              "    </tr>\n",
              "    <tr>\n",
              "      <th>6</th>\n",
              "      <td>8</td>\n",
              "      <td>Person_8</td>\n",
              "      <td>38</td>\n",
              "      <td>City_B</td>\n",
              "      <td>1708485438.271855</td>\n",
              "      <td>9WVHZx5fZosoKA</td>\n",
              "      <td>Job_8</td>\n",
              "    </tr>\n",
              "    <tr>\n",
              "      <th>7</th>\n",
              "      <td>7</td>\n",
              "      <td>Person_7</td>\n",
              "      <td>37</td>\n",
              "      <td>City_B</td>\n",
              "      <td>1708485438.271855</td>\n",
              "      <td>3n/bjhpotNIX8g</td>\n",
              "      <td>Job_7</td>\n",
              "    </tr>\n",
              "  </tbody>\n",
              "</table>\n",
              "</div>"
            ],
            "text/plain": [
              "   id      name  age    city       _dlt_load_id         _dlt_id occupation\n",
              "0   1  Person_1   26  City_A  1708485408.687253  17ycgOMJGujvtg       None\n",
              "1   2  Person_2   27  City_A  1708485408.687253  K5hPP7LT67RgIw       None\n",
              "2   4  Person_4   34  City_B  1708485438.271855  I0ouwS6DvpIGLw      Job_4\n",
              "3   5  Person_5   35  City_B  1708485438.271855  j+aTocUAVc1LPA      Job_5\n",
              "4   3  Person_3   33  City_B  1708485438.271855  d0ZojrP6N7kkaw      Job_3\n",
              "5   6  Person_6   36  City_B  1708485438.271855  BQtfKnSP2lT9lw      Job_6\n",
              "6   8  Person_8   38  City_B  1708485438.271855  9WVHZx5fZosoKA      Job_8\n",
              "7   7  Person_7   37  City_B  1708485438.271855  3n/bjhpotNIX8g      Job_7"
            ]
          },
          "metadata": {},
          "output_type": "display_data"
        }
      ],
      "source": [
        "people_merge_table = conn.sql(\"SELECT * FROM people_merge\").df()\n",
        "display(people_merge_table)"
      ]
    },
    {
      "cell_type": "code",
      "execution_count": 22,
      "metadata": {},
      "outputs": [
        {
          "data": {
            "text/html": [
              "<div>\n",
              "<style scoped>\n",
              "    .dataframe tbody tr th:only-of-type {\n",
              "        vertical-align: middle;\n",
              "    }\n",
              "\n",
              "    .dataframe tbody tr th {\n",
              "        vertical-align: top;\n",
              "    }\n",
              "\n",
              "    .dataframe thead th {\n",
              "        text-align: right;\n",
              "    }\n",
              "</style>\n",
              "<table border=\"1\" class=\"dataframe\">\n",
              "  <thead>\n",
              "    <tr style=\"text-align: right;\">\n",
              "      <th></th>\n",
              "      <th>total_ages</th>\n",
              "    </tr>\n",
              "  </thead>\n",
              "  <tbody>\n",
              "    <tr>\n",
              "      <th>0</th>\n",
              "      <td>266.0</td>\n",
              "    </tr>\n",
              "  </tbody>\n",
              "</table>\n",
              "</div>"
            ],
            "text/plain": [
              "   total_ages\n",
              "0       266.0"
            ]
          },
          "metadata": {},
          "output_type": "display_data"
        }
      ],
      "source": [
        "query = conn.sql(\"SELECT SUM(age) AS total_ages FROM people_merge\").df()\n",
        "display(query)"
      ]
    },
    {
      "cell_type": "markdown",
      "metadata": {
        "id": "PoTJu4kbGG0z"
      },
      "source": [
        "Questions? difficulties? We are here to help.\n",
        "- DTC data engineering course channel: https://datatalks-club.slack.com/archives/C01FABYF2RG\n",
        "- dlt's DTC cohort channel: https://dlthub-community.slack.com/archives/C06GAEX2VNX"
      ]
    },
    {
      "cell_type": "markdown",
      "metadata": {},
      "source": []
    }
  ],
  "metadata": {
    "colab": {
      "provenance": []
    },
    "kernelspec": {
      "display_name": "Python 3",
      "name": "python3"
    },
    "language_info": {
      "codemirror_mode": {
        "name": "ipython",
        "version": 3
      },
      "file_extension": ".py",
      "mimetype": "text/x-python",
      "name": "python",
      "nbconvert_exporter": "python",
      "pygments_lexer": "ipython3",
      "version": "3.9.6"
    }
  },
  "nbformat": 4,
  "nbformat_minor": 0
}
